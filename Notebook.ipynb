{
 "cells": [
  {
   "cell_type": "code",
   "execution_count": 5,
   "metadata": {},
   "outputs": [],
   "source": [
    "import torch\n",
    "import torch.nn as nn\n",
    "import torch.nn.functional as F\n",
    "import torch.optim as optim\n",
    "from torch.utils.data import DataLoader\n",
    "from torchvision import datasets, transforms\n",
    "import tqdm\n",
    "import matplotlib.pyplot as plt\n",
    "from torch.utils.tensorboard import SummaryWriter\n",
    "from  torch.cuda.amp import autocast\n",
    "import matplotlib.pyplot as plt"
   ]
  },
  {
   "cell_type": "code",
   "execution_count": null,
   "metadata": {},
   "outputs": [],
   "source": [
    "train_dataloader = torch.utils.data.DataLoader(\n",
    "    datasets.CIFAR10('../data', train=True, download=True,\n",
    "                    transform=transforms.Compose([\n",
    "                        transforms.ToTensor(),\n",
    "                        transforms.Normalize((0.1302,), (0.3069,))])),\n",
    "    batch_size=32, shuffle=True)\n",
    "\n",
    "test_dataloader = torch.utils.data.DataLoader(\n",
    "    datasets.CIFAR10('../data', train=False, \n",
    "                    transform=transforms.Compose([\n",
    "                        transforms.ToTensor(),\n",
    "                        transforms.Normalize((0.1302,), (0.3069,)) \n",
    "                    ])),\n",
    "    batch_size=500, shuffle=False)"
   ]
  },
  {
   "cell_type": "code",
   "execution_count": 4,
   "metadata": {},
   "outputs": [],
   "source": [
    "class SimpleConvNet(nn.Module):\n",
    "    def __init__(self, in_channels= 3, num_classes= 10):\n",
    "        super(SimpleConvNet, self).__init__()\n",
    "        self.conv_block_1 = nn.Sequential(nn.Conv2d(in_channels,12,4),\n",
    "                                    nn.MaxPool2d(kernel_size=2),\n",
    "                                    nn.ReLU(inplace=True))\n",
    "        self.conv_block_2 = nn.Sequential(nn.Conv2d(12,48,4),\n",
    "                                    nn.MaxPool2d(kernel_size=2),\n",
    "                                    nn.ReLU(inplace=True))\n",
    "        self.linear_1 = nn.Sequential(nn.Linear(7680, 256),\n",
    "                                    nn.ReLU(inplace= True))\n",
    "        self.linear2 = nn.Sequential(nn.Linear(256, num_classes),\n",
    "                                    nn.ReLU(inplace= True))\n",
    "        self.Softmax = nn.Softmax(num_classes)\n",
    "    def forward(self, x):\n",
    "        print(x.shape)\n",
    "        x= self.conv_block_1(x)\n",
    "        print(x.shape)\n",
    "        x= self.conv_block_2(x)\n",
    "        print(x.shape)\n",
    "        x = torch.flatten(x, 1)\n",
    "        print(x.shape)\n",
    "        x= self.linear_1(x)\n",
    "        x= self.linear_2(x)\n",
    "        print(x.shape)\n",
    "        x= self.Softmax(x)\n",
    "        return x"
   ]
  },
  {
   "cell_type": "code",
   "execution_count": 2,
   "metadata": {},
   "outputs": [],
   "source": [
    "def Train(loader, model, optimizer, loss_func, device):\n",
    "    model.train()\n",
    "    loop = tqdm(loader)\n",
    "    for batch_idx, (X_train, y_train) in enumerate(loop):\n",
    "\n",
    "        X_train, y_train = X_train.to(device), y_train.to(device)\n",
    "        optimizer.zero_grad()\n",
    "        #with torch.cuda.amp.autocast():\n",
    "        predictions = model(X_train)\n",
    "        loss = loss_func(predictions, y_train)\n",
    "\n",
    "        loss.backward()\n",
    "        optimizer.step()\n",
    "        optimizer.step()\n",
    "\n",
    "        loop.set_postfix(loss=loss.item())\n",
    "    return loss.item()"
   ]
  },
  {
   "cell_type": "code",
   "execution_count": null,
   "metadata": {},
   "outputs": [],
   "source": [
    "def test_fn(loader, model, loss_func, device):\n",
    "    model.eval()\n",
    "    test_score = 0\n",
    "    with torch.no_grad():\n",
    "        for data in loader:\n",
    "            images, targets = data\n",
    "            images = images.to(device)\n",
    "            outputs = model(images)\n",
    "            test_score += loss_func(outputs, targets)\n",
    "    return test_score"
   ]
  },
  {
   "cell_type": "code",
   "execution_count": null,
   "metadata": {},
   "outputs": [],
   "source": [
    "loss_fn = nn.CrossEntropyLoss()\n",
    "device = torch.device('cuda:0' if torch.cuda.is_available() else 'cpu')\n",
    "#model = SimpleConvNet().to(device)\n",
    "model = SimpleConvNet()\n",
    "optimizer = torch.optim.SGD(params= model.parameters(), lr=0.001)\n",
    "num_epochs = 20\n",
    "writer = SummaryWriter('runs/Logger')\n",
    "for epoch in tqdm(range(num_epochs), leave=True):\n",
    "    train_loss = Train(loader = train_dataloader, model= model, optimizer= optimizer, loss_func = loss_fn, device= device)\n",
    "    writer.add_scalar('Train_Loss', train_loss, epoch)\n",
    "    val_cross_entropy = test_fn(loader= test_dataloader, model= model, device=device, loss_func = loss_fn)\n",
    "    writer.add_scalar('Test_loss', val_cross_entropy, epoch)\n",
    "    if epoch % 125 == 0:\n",
    "      print(\"epoch\", epoch,\"   \",)\n",
    "      print(\"Train Loss:\", train_loss,\"   \",)\n",
    "      print(\"Test Loss:\", val_cross_entropy)"
   ]
  }
 ],
 "metadata": {
  "kernelspec": {
   "display_name": "Python 3.9.12 ('base')",
   "language": "python",
   "name": "python3"
  },
  "language_info": {
   "codemirror_mode": {
    "name": "ipython",
    "version": 3
   },
   "file_extension": ".py",
   "mimetype": "text/x-python",
   "name": "python",
   "nbconvert_exporter": "python",
   "pygments_lexer": "ipython3",
   "version": "3.9.12"
  },
  "orig_nbformat": 4,
  "vscode": {
   "interpreter": {
    "hash": "d6f9603d1be06c2d0189ab3c3cd2be93742383c73d65307cc5b0fe3e367bcc74"
   }
  }
 },
 "nbformat": 4,
 "nbformat_minor": 2
}
